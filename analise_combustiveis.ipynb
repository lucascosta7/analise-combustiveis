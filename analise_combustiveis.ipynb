{
  "nbformat": 4,
  "nbformat_minor": 0,
  "metadata": {
    "colab": {
      "provenance": [],
      "authorship_tag": "ABX9TyNBu02XU5zEaI3gW4xFS+n4",
      "include_colab_link": true
    },
    "kernelspec": {
      "name": "python3",
      "display_name": "Python 3"
    },
    "language_info": {
      "name": "python"
    }
  },
  "cells": [
    {
      "cell_type": "markdown",
      "metadata": {
        "id": "view-in-github",
        "colab_type": "text"
      },
      "source": [
        "<a href=\"https://colab.research.google.com/github/lucascosta7/analise-combustiveis/blob/main/analise_combustiveis.ipynb\" target=\"_parent\"><img src=\"https://colab.research.google.com/assets/colab-badge.svg\" alt=\"Open In Colab\"/></a>"
      ]
    },
    {
      "cell_type": "code",
      "execution_count": 1,
      "metadata": {
        "id": "PKMz65V9E95r"
      },
      "outputs": [],
      "source": [
        "from pyspark.sql import SparkSession\n",
        "from pyspark.sql import functions as F"
      ]
    },
    {
      "cell_type": "code",
      "source": [
        "spark = (\n",
        "    SparkSession\n",
        "    .builder\n",
        "    .appName(\"Analise-Combustiveis\")\n",
        "    .getOrCreate()\n",
        ")"
      ],
      "metadata": {
        "id": "Z5wgEyLTFFj8"
      },
      "execution_count": 2,
      "outputs": []
    },
    {
      "cell_type": "code",
      "source": [
        "df = (\n",
        "    spark\n",
        "    .read\n",
        "    .option('delimiter', ';')\n",
        "    .option('header', 'true')\n",
        "    .option('inferSchema', 'true')\n",
        "    .option('enconding', 'ISO-8859-1')\n",
        "    .csv(\"/content/data/precos-gasolina-etanol-10.csv\")\n",
        "    )"
      ],
      "metadata": {
        "id": "frgFfQIzFFwD"
      },
      "execution_count": 3,
      "outputs": []
    },
    {
      "cell_type": "code",
      "source": [
        "df.printSchema()"
      ],
      "metadata": {
        "colab": {
          "base_uri": "https://localhost:8080/"
        },
        "id": "Iw5qYNmrFF5c",
        "outputId": "10c4aac6-3779-4ee5-b632-0620ae45b7e0"
      },
      "execution_count": 4,
      "outputs": [
        {
          "output_type": "stream",
          "name": "stdout",
          "text": [
            "root\n",
            " |-- Regiao - Sigla: string (nullable = true)\n",
            " |-- Estado - Sigla: string (nullable = true)\n",
            " |-- Municipio: string (nullable = true)\n",
            " |-- Revenda: string (nullable = true)\n",
            " |-- CNPJ da Revenda: string (nullable = true)\n",
            " |-- Nome da Rua: string (nullable = true)\n",
            " |-- Numero Rua: string (nullable = true)\n",
            " |-- Complemento: string (nullable = true)\n",
            " |-- Bairro: string (nullable = true)\n",
            " |-- Cep: string (nullable = true)\n",
            " |-- Produto: string (nullable = true)\n",
            " |-- Data da Coleta: string (nullable = true)\n",
            " |-- Valor de Venda: string (nullable = true)\n",
            " |-- Valor de Compra: string (nullable = true)\n",
            " |-- Unidade de Medida: string (nullable = true)\n",
            " |-- Bandeira: string (nullable = true)\n",
            "\n"
          ]
        }
      ]
    },
    {
      "cell_type": "code",
      "source": [
        "df_precos = (\n",
        "    df\n",
        "    .select('Estado - Sigla', 'Municipio', 'Produto', 'Valor de Compra', 'Valor de Venda', 'Unidade de Medida', 'Bandeira')\n",
        ")"
      ],
      "metadata": {
        "id": "YKpblDyjFGDU"
      },
      "execution_count": 5,
      "outputs": []
    },
    {
      "cell_type": "code",
      "source": [
        "(\n",
        "    df_precos\n",
        "    .where(\n",
        "        F.col('Valor de Compra').isNotNull()\n",
        "    )\n",
        "    .show()\n",
        ")"
      ],
      "metadata": {
        "colab": {
          "base_uri": "https://localhost:8080/"
        },
        "id": "6P9cHt6pFGND",
        "outputId": "0c510655-650e-40fe-d914-9baba4c929b5"
      },
      "execution_count": 6,
      "outputs": [
        {
          "output_type": "stream",
          "name": "stdout",
          "text": [
            "+--------------+---------+-------+---------------+--------------+-----------------+--------+\n",
            "|Estado - Sigla|Municipio|Produto|Valor de Compra|Valor de Venda|Unidade de Medida|Bandeira|\n",
            "+--------------+---------+-------+---------------+--------------+-----------------+--------+\n",
            "+--------------+---------+-------+---------------+--------------+-----------------+--------+\n",
            "\n"
          ]
        }
      ]
    },
    {
      "cell_type": "code",
      "source": [
        "df_precos = (\n",
        "    df\n",
        "    .select('Estado - Sigla', 'Municipio', 'Produto', 'Valor de Venda', 'Unidade de Medida', 'Bandeira')\n",
        "    .withColumn(\n",
        "        \"Valor de Venda\",\n",
        "        F.regexp_replace(F.col(\"Valor de Venda\"), \",\", \".\")\n",
        "        .cast(\"float\")\n",
        "    )\n",
        ")"
      ],
      "metadata": {
        "id": "CzwL4jmFFGqN"
      },
      "execution_count": 7,
      "outputs": []
    },
    {
      "cell_type": "code",
      "source": [
        "df_produtos_analise = (\n",
        "    df_precos\n",
        "    .groupBy(\n",
        "        F.col('Produto')\n",
        "    )\n",
        "    .agg(\n",
        "        F.min(F.col(\"Valor de Venda\")).alias('menor_preco'),\n",
        "        F.max(F.col(\"Valor de Venda\")).alias('maior_preco')\n",
        "    )\n",
        "    .show()\n",
        ")"
      ],
      "metadata": {
        "colab": {
          "base_uri": "https://localhost:8080/"
        },
        "id": "zNLebLigFG08",
        "outputId": "7ab97e97-ca67-49d1-ea60-f2588e70a60f"
      },
      "execution_count": 8,
      "outputs": [
        {
          "output_type": "stream",
          "name": "stdout",
          "text": [
            "+------------------+-----------+-----------+\n",
            "|           Produto|menor_preco|maior_preco|\n",
            "+------------------+-----------+-----------+\n",
            "|GASOLINA ADITIVADA|       4.79|       8.69|\n",
            "|            ETANOL|       2.78|        6.6|\n",
            "|          GASOLINA|       4.59|       7.62|\n",
            "+------------------+-----------+-----------+\n",
            "\n"
          ]
        }
      ]
    },
    {
      "cell_type": "code",
      "source": [
        "df_precos_media = (\n",
        "    df_precos\n",
        "    .groupBy(\n",
        "        F.col('Estado - Sigla')\n",
        "    )\n",
        "    .avg(\"Valor de Venda\")\n",
        "    .show()\n",
        ")"
      ],
      "metadata": {
        "colab": {
          "base_uri": "https://localhost:8080/"
        },
        "id": "m3un_I9zFHAD",
        "outputId": "2ec81344-6f51-4676-9dc3-444d67872bc5"
      },
      "execution_count": 9,
      "outputs": [
        {
          "output_type": "stream",
          "name": "stdout",
          "text": [
            "+--------------+-------------------+\n",
            "|Estado - Sigla|avg(Valor de Venda)|\n",
            "+--------------+-------------------+\n",
            "|            SC| 5.5442990016654505|\n",
            "|            RO|  6.239915405634898|\n",
            "|            PI|  5.207308851615369|\n",
            "|            AM|  6.081273168964959|\n",
            "|            RR|  5.864293734232585|\n",
            "|            GO|   4.90600106857016|\n",
            "|            TO|  5.541441934832027|\n",
            "|            MT|  4.819765392286687|\n",
            "|            SP|  4.913365221043784|\n",
            "|            ES|  5.551594053605111|\n",
            "|            PB|  5.276236401627893|\n",
            "|            RS|   5.58953165012815|\n",
            "|            MS|  5.193745138102057|\n",
            "|            AL|  5.478569420178731|\n",
            "|            MG|  4.929369353885123|\n",
            "|            PA|   6.01306065762368|\n",
            "|            BA|  5.464833559839801|\n",
            "|            SE|    5.7051443477941|\n",
            "|            PE| 5.2422393091248525|\n",
            "|            CE|  5.535351578885313|\n",
            "+--------------+-------------------+\n",
            "only showing top 20 rows\n",
            "\n"
          ]
        }
      ]
    },
    {
      "cell_type": "code",
      "source": [
        "df_precos_bandeira = (\n",
        "    df_precos\n",
        "    .groupBy(\n",
        "        F.col('Bandeira')\n",
        "    )\n",
        "    .avg(\"Valor de Venda\")\n",
        "    .show()\n",
        ")"
      ],
      "metadata": {
        "colab": {
          "base_uri": "https://localhost:8080/"
        },
        "id": "U8YHpyUOFHLc",
        "outputId": "328544be-71b2-4920-ad90-7ff97d628935"
      },
      "execution_count": 10,
      "outputs": [
        {
          "output_type": "stream",
          "name": "stdout",
          "text": [
            "+-------------------+-------------------+\n",
            "|           Bandeira|avg(Valor de Venda)|\n",
            "+-------------------+-------------------+\n",
            "|              SABBÁ|  5.758253679636872|\n",
            "|              VIBRA|  5.356094067805941|\n",
            "|             RODOIL| 5.4788188709048775|\n",
            "|             BRANCA| 5.0304336267132514|\n",
            "|      TOTALENERGIES| 4.8968235100016875|\n",
            "|         RIO BRANCO|   5.22028568812779|\n",
            "|             ALESAT|  5.156823870289942|\n",
            "|   SUL COMBUSTÍVEIS|  5.824545600197532|\n",
            "|             TAURUS|  4.936012616640405|\n",
            "|          POTENCIAL|  5.413124990463257|\n",
            "|                FAN|  5.617543781012819|\n",
            "|              LARCO|  5.160952443168277|\n",
            "|         PETROBAHIA|  5.481153833560454|\n",
            "|                 SP| 5.5932393879957605|\n",
            "|              IDAZA|  5.559411736095653|\n",
            "|MASUT DISTRIBUIDORA| 4.9091176355586335|\n",
            "|          SIMARELLI|  4.810909054496071|\n",
            "|             TEMAPE|  5.262380951926822|\n",
            "|           ON PETRO|  5.485833326975505|\n",
            "|        RAIZEN MIME|    5.5468292294479|\n",
            "+-------------------+-------------------+\n",
            "only showing top 20 rows\n",
            "\n"
          ]
        }
      ]
    },
    {
      "cell_type": "code",
      "source": [
        "df_precos_filtro = (\n",
        "    df_precos\n",
        "    .filter(F.col('Estado - Sigla') == 'SP')\n",
        "    .groupBy(F.col('Produto'))\n",
        "    .avg(\"Valor de Venda\")\n",
        "    .show()\n",
        ")"
      ],
      "metadata": {
        "colab": {
          "base_uri": "https://localhost:8080/"
        },
        "id": "TCV4Ur4NFHhM",
        "outputId": "a3a924eb-ec21-4843-83d8-dbe4489dd61a"
      },
      "execution_count": 11,
      "outputs": [
        {
          "output_type": "stream",
          "name": "stdout",
          "text": [
            "+------------------+-------------------+\n",
            "|           Produto|avg(Valor de Venda)|\n",
            "+------------------+-------------------+\n",
            "|GASOLINA ADITIVADA|  5.843014348713785|\n",
            "|            ETANOL| 3.4604334426492116|\n",
            "|          GASOLINA|  5.590069530250139|\n",
            "+------------------+-------------------+\n",
            "\n"
          ]
        }
      ]
    },
    {
      "cell_type": "code",
      "source": [
        "df_municipios = (\n",
        "    df\n",
        "    .select('Municipio')\n",
        ")"
      ],
      "metadata": {
        "id": "0L_WnbjmFbDD"
      },
      "execution_count": 12,
      "outputs": []
    },
    {
      "cell_type": "code",
      "source": [
        "df_municipios_analise = (\n",
        "    df_municipios\n",
        "    .groupBy('Municipio')\n",
        "    .count()\n",
        "    .orderBy(F.col(\"count\"))\n",
        "    .show(10)\n",
        ")"
      ],
      "metadata": {
        "colab": {
          "base_uri": "https://localhost:8080/"
        },
        "id": "Mw2vOLByFbPL",
        "outputId": "49fd2689-d5c4-45c1-f602-e7b9d2374a4d"
      },
      "execution_count": 13,
      "outputs": [
        {
          "output_type": "stream",
          "name": "stdout",
          "text": [
            "+--------------------+-----+\n",
            "|           Municipio|count|\n",
            "+--------------------+-----+\n",
            "|            ITAITUBA|    7|\n",
            "|               LAGES|   10|\n",
            "|           VERA CRUZ|   10|\n",
            "|SANTA CRUZ DO RIO...|   11|\n",
            "|              MARABA|   11|\n",
            "|              TOLEDO|   12|\n",
            "|        POUSO ALEGRE|   15|\n",
            "|                TEFE|   18|\n",
            "|          JAGUAQUARA|   21|\n",
            "|            REDENCAO|   22|\n",
            "+--------------------+-----+\n",
            "only showing top 10 rows\n",
            "\n"
          ]
        }
      ]
    }
  ]
}