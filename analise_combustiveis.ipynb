{
  "nbformat": 4,
  "nbformat_minor": 0,
  "metadata": {
    "colab": {
      "provenance": [],
      "authorship_tag": "ABX9TyNYiZgDTWzeuSxPJgeHDuJA"
    },
    "kernelspec": {
      "name": "python3",
      "display_name": "Python 3"
    },
    "language_info": {
      "name": "python"
    }
  },
  "cells": [
    {
      "cell_type": "code",
      "execution_count": 7,
      "metadata": {
        "id": "L5oahZwaV65M"
      },
      "outputs": [],
      "source": [
        "from pyspark.sql import SparkSession\n",
        "from pyspark.sql import functions as F\n",
        "import requests"
      ]
    },
    {
      "cell_type": "code",
      "source": [
        "\n",
        "spark = (\n",
        "    SparkSession\n",
        "    .builder\n",
        "    .appName(\"Analise-Combustiveis\")\n",
        "    .getOrCreate()\n",
        ")"
      ],
      "metadata": {
        "id": "04lHUvJ-WQed"
      },
      "execution_count": 2,
      "outputs": []
    },
    {
      "cell_type": "code",
      "source": [
        "url = \"https://raw.githubusercontent.com/lucascosta7/analise-combustiveis/refs/heads/main/data/precos-gasolina-etanol-10.csv\"\n",
        "local_path = \"/tmp/precos.csv\"\n",
        "\n",
        "# Baixar o arquivo\n",
        "r = requests.get(url)\n",
        "with open(local_path, \"wb\") as f:\n",
        "    f.write(r.content)\n",
        "\n",
        "# Ler no Spark\n",
        "df = spark.read.csv(local_path, header=True, inferSchema=True, sep=\";\")\n",
        "df.show(5)"
      ],
      "metadata": {
        "id": "oIIgtoONWVhm",
        "colab": {
          "base_uri": "https://localhost:8080/"
        },
        "outputId": "bf7daf76-20c4-484e-a9f9-cf416c09830d"
      },
      "execution_count": 9,
      "outputs": [
        {
          "output_type": "stream",
          "name": "stdout",
          "text": [
            "+--------------+--------------+---------+--------------------+-------------------+--------------------+----------+-----------+--------+---------+------------------+--------------+--------------+---------------+-----------------+--------+\n",
            "|Regiao - Sigla|Estado - Sigla|Municipio|             Revenda|    CNPJ da Revenda|         Nome da Rua|Numero Rua|Complemento|  Bairro|      Cep|           Produto|Data da Coleta|Valor de Venda|Valor de Compra|Unidade de Medida|Bandeira|\n",
            "+--------------+--------------+---------+--------------------+-------------------+--------------------+----------+-----------+--------+---------+------------------+--------------+--------------+---------------+-----------------+--------+\n",
            "|            NE|            AL|ARAPIRACA|COMERCIAL DE COMB...| 02.817.655/0001-82|RODOVIA AL 220 - ...|       S/N|       NULL|PLANALTO|57308-000|          GASOLINA|    02/10/2023|          6,08|           NULL|       R$ / litro|   VIBRA|\n",
            "|            NE|            AL|ARAPIRACA|COMERCIAL DE COMB...| 02.817.655/0001-82|RODOVIA AL 220 - ...|       S/N|       NULL|PLANALTO|57308-000|GASOLINA ADITIVADA|    02/10/2023|          6,08|           NULL|       R$ / litro|   VIBRA|\n",
            "|            NE|            AL|ARAPIRACA|COMERCIAL DE COMB...| 02.817.655/0001-82|RODOVIA AL 220 - ...|       S/N|       NULL|PLANALTO|57308-000|            ETANOL|    02/10/2023|          4,78|           NULL|       R$ / litro|   VIBRA|\n",
            "|            NE|            AL|ARAPIRACA|AUTO POSTO SAO FR...| 12.706.529/0001-04|   RUA SAO FRANCISCO|       274|       NULL|  CENTRO|57300-080|          GASOLINA|    02/10/2023|          5,79|           NULL|       R$ / litro|   VIBRA|\n",
            "|            NE|            AL|ARAPIRACA|AUTO POSTO SAO FR...| 12.706.529/0001-04|   RUA SAO FRANCISCO|       274|       NULL|  CENTRO|57300-080|            ETANOL|    02/10/2023|          4,29|           NULL|       R$ / litro|   VIBRA|\n",
            "+--------------+--------------+---------+--------------------+-------------------+--------------------+----------+-----------+--------+---------+------------------+--------------+--------------+---------------+-----------------+--------+\n",
            "only showing top 5 rows\n",
            "\n"
          ]
        }
      ]
    },
    {
      "cell_type": "code",
      "source": [
        "\n",
        "df_precos = (\n",
        "    df\n",
        "    .select('Estado - Sigla', 'Municipio', 'Produto', 'Valor de Compra', 'Valor de Venda', 'Unidade de Medida', 'Bandeira')\n",
        ")"
      ],
      "metadata": {
        "id": "jiZVtM-fYkVc"
      },
      "execution_count": 10,
      "outputs": []
    },
    {
      "cell_type": "code",
      "source": [
        "(\n",
        "    df_precos\n",
        "    .where(\n",
        "        F.col('Valor de Compra').isNotNull()\n",
        "    )\n",
        "    .show()\n",
        ")"
      ],
      "metadata": {
        "colab": {
          "base_uri": "https://localhost:8080/"
        },
        "id": "HL7rRzkfYnj5",
        "outputId": "c02747c9-bc2d-4d76-9b41-9d18178a9d89"
      },
      "execution_count": 19,
      "outputs": [
        {
          "output_type": "stream",
          "name": "stdout",
          "text": [
            "+--------------+---------+-------+--------------+-----------------+--------+\n",
            "|Estado - Sigla|Municipio|Produto|Valor de Venda|Unidade de Medida|Bandeira|\n",
            "+--------------+---------+-------+--------------+-----------------+--------+\n",
            "+--------------+---------+-------+--------------+-----------------+--------+\n",
            "\n"
          ]
        }
      ]
    },
    {
      "cell_type": "code",
      "source": [
        "df_precos = (\n",
        "    df\n",
        "    .select('Estado - Sigla', 'Municipio', 'Produto', 'Valor de Venda', 'Unidade de Medida', 'Bandeira')\n",
        "    .withColumn(\n",
        "        \"Valor de Venda\",\n",
        "        F.regexp_replace(F.col(\"Valor de Venda\"), \",\", \".\")\n",
        "        .cast(\"float\")\n",
        "    )\n",
        ")"
      ],
      "metadata": {
        "id": "n0DLVEAbYnvS"
      },
      "execution_count": 20,
      "outputs": []
    },
    {
      "cell_type": "code",
      "source": [
        "# Produto mais barato e mais caro.\n",
        "\n",
        "df_produtos_analise = (\n",
        "    df_precos\n",
        "    .groupBy(\n",
        "        F.col('Produto')\n",
        "    )\n",
        "    .agg(\n",
        "        F.min(F.col(\"Valor de Venda\")).alias('menor_preco'),\n",
        "        F.max(F.col(\"Valor de Venda\")).alias('maior_preco')\n",
        "    )\n",
        "    .show()\n",
        ")"
      ],
      "metadata": {
        "colab": {
          "base_uri": "https://localhost:8080/"
        },
        "id": "9blvIc8aYn58",
        "outputId": "7f48e05a-8fb1-417e-8243-2e26755b3ff5"
      },
      "execution_count": 21,
      "outputs": [
        {
          "output_type": "stream",
          "name": "stdout",
          "text": [
            "+------------------+-----------+-----------+\n",
            "|           Produto|menor_preco|maior_preco|\n",
            "+------------------+-----------+-----------+\n",
            "|GASOLINA ADITIVADA|       4.79|       8.69|\n",
            "|            ETANOL|       2.78|        6.6|\n",
            "|          GASOLINA|       4.59|       7.62|\n",
            "+------------------+-----------+-----------+\n",
            "\n"
          ]
        }
      ]
    },
    {
      "cell_type": "code",
      "source": [
        "# Preço médio por estado.\n",
        "\n",
        "df_precos_media = (\n",
        "    df_precos\n",
        "    .groupBy(\n",
        "        F.col('Estado - Sigla')\n",
        "    )\n",
        "    .avg(\"Valor de Venda\")\n",
        "    .show()\n",
        ")"
      ],
      "metadata": {
        "colab": {
          "base_uri": "https://localhost:8080/"
        },
        "id": "e928qAAmYwi4",
        "outputId": "b700457d-96dd-4faf-cf3b-6052f105e108"
      },
      "execution_count": 22,
      "outputs": [
        {
          "output_type": "stream",
          "name": "stdout",
          "text": [
            "+--------------+-------------------+\n",
            "|Estado - Sigla|avg(Valor de Venda)|\n",
            "+--------------+-------------------+\n",
            "|            SC| 5.5442990016654505|\n",
            "|            RO|  6.239915405634898|\n",
            "|            PI|  5.207308851615369|\n",
            "|            AM|  6.081273168964959|\n",
            "|            RR|  5.864293734232585|\n",
            "|            GO|   4.90600106857016|\n",
            "|            TO|  5.541441934832027|\n",
            "|            MT|  4.819765392286687|\n",
            "|            SP|  4.913365221043784|\n",
            "|            ES|  5.551594053605111|\n",
            "|            PB|  5.276236401627893|\n",
            "|            RS|   5.58953165012815|\n",
            "|            MS|  5.193745138102057|\n",
            "|            AL|  5.478569420178731|\n",
            "|            MG|  4.929369353885123|\n",
            "|            PA|   6.01306065762368|\n",
            "|            BA|  5.464833559839801|\n",
            "|            SE|    5.7051443477941|\n",
            "|            PE| 5.2422393091248525|\n",
            "|            CE|  5.535351578885313|\n",
            "+--------------+-------------------+\n",
            "only showing top 20 rows\n",
            "\n"
          ]
        }
      ]
    },
    {
      "cell_type": "code",
      "source": [
        "# Preço médio por bandeira.\n",
        "\n",
        "df_precos_bandeira = (\n",
        "    df_precos\n",
        "    .groupBy(\n",
        "        F.col('Bandeira')\n",
        "    )\n",
        "    .avg(\"Valor de Venda\")\n",
        "    .show()\n",
        ")"
      ],
      "metadata": {
        "colab": {
          "base_uri": "https://localhost:8080/"
        },
        "id": "W7Ul6voOYoDr",
        "outputId": "cfec46e8-4ded-40ed-a846-0dd595cb3640"
      },
      "execution_count": 23,
      "outputs": [
        {
          "output_type": "stream",
          "name": "stdout",
          "text": [
            "+-------------------+-------------------+\n",
            "|           Bandeira|avg(Valor de Venda)|\n",
            "+-------------------+-------------------+\n",
            "|              SABBÁ|  5.758253679636872|\n",
            "|              VIBRA|  5.356094067805941|\n",
            "|             RODOIL| 5.4788188709048775|\n",
            "|             BRANCA| 5.0304336267132514|\n",
            "|      TOTALENERGIES| 4.8968235100016875|\n",
            "|         RIO BRANCO|   5.22028568812779|\n",
            "|             ALESAT|  5.156823870289942|\n",
            "|   SUL COMBUSTÍVEIS|  5.824545600197532|\n",
            "|             TAURUS|  4.936012616640405|\n",
            "|          POTENCIAL|  5.413124990463257|\n",
            "|                FAN|  5.617543781012819|\n",
            "|              LARCO|  5.160952443168277|\n",
            "|         PETROBAHIA|  5.481153833560454|\n",
            "|                 SP| 5.5932393879957605|\n",
            "|              IDAZA|  5.559411736095653|\n",
            "|MASUT DISTRIBUIDORA| 4.9091176355586335|\n",
            "|          SIMARELLI|  4.810909054496071|\n",
            "|             TEMAPE|  5.262380951926822|\n",
            "|           ON PETRO|  5.485833326975505|\n",
            "|        RAIZEN MIME|    5.5468292294479|\n",
            "+-------------------+-------------------+\n",
            "only showing top 20 rows\n",
            "\n"
          ]
        }
      ]
    },
    {
      "cell_type": "code",
      "source": [
        "# Preço médio por combustível em um único estado.\n",
        "\n",
        "df_precos_filtro = (\n",
        "    df_precos\n",
        "    .filter(F.col('Estado - Sigla') == 'SP')\n",
        "    .groupBy(F.col('Produto'))\n",
        "    .avg(\"Valor de Venda\")\n",
        "    .show()\n",
        ")"
      ],
      "metadata": {
        "colab": {
          "base_uri": "https://localhost:8080/"
        },
        "id": "sGuyRVcEYoNR",
        "outputId": "b3c68a15-f310-4e3a-8471-9f74919e524b"
      },
      "execution_count": 24,
      "outputs": [
        {
          "output_type": "stream",
          "name": "stdout",
          "text": [
            "+------------------+-------------------+\n",
            "|           Produto|avg(Valor de Venda)|\n",
            "+------------------+-------------------+\n",
            "|GASOLINA ADITIVADA|  5.843014348713785|\n",
            "|            ETANOL| 3.4604334426492116|\n",
            "|          GASOLINA|  5.590069530250139|\n",
            "+------------------+-------------------+\n",
            "\n"
          ]
        }
      ]
    },
    {
      "cell_type": "code",
      "source": [
        "df_municipios = (\n",
        "    df\n",
        "    .select('Municipio')\n",
        ")"
      ],
      "metadata": {
        "id": "mJ9cdqFaY653"
      },
      "execution_count": 17,
      "outputs": []
    },
    {
      "cell_type": "code",
      "source": [
        "# Coletas de preços foram registradas pelo município\n",
        "\n",
        "df_municipios_analise = (\n",
        "    df_municipios\n",
        "    .groupBy('Municipio')\n",
        "    .count()\n",
        "    .orderBy(F.col(\"count\"))\n",
        "    .show(10)\n",
        ")"
      ],
      "metadata": {
        "colab": {
          "base_uri": "https://localhost:8080/"
        },
        "id": "4AXoxB3kY7Dd",
        "outputId": "b171763a-e98f-4686-b3fb-d39abdf393d9"
      },
      "execution_count": 25,
      "outputs": [
        {
          "output_type": "stream",
          "name": "stdout",
          "text": [
            "+--------------------+-----+\n",
            "|           Municipio|count|\n",
            "+--------------------+-----+\n",
            "|            ITAITUBA|    7|\n",
            "|               LAGES|   10|\n",
            "|           VERA CRUZ|   10|\n",
            "|SANTA CRUZ DO RIO...|   11|\n",
            "|              MARABA|   11|\n",
            "|              TOLEDO|   12|\n",
            "|        POUSO ALEGRE|   15|\n",
            "|                TEFE|   18|\n",
            "|          JAGUAQUARA|   21|\n",
            "|            REDENCAO|   22|\n",
            "+--------------------+-----+\n",
            "only showing top 10 rows\n",
            "\n"
          ]
        }
      ]
    }
  ]
}